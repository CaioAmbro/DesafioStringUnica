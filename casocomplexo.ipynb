{
 "cells": [
  {
   "cell_type": "markdown",
   "metadata": {},
   "source": [
    "## Código caso complexo: Regex"
   ]
  },
  {
   "cell_type": "code",
   "execution_count": 8,
   "metadata": {},
   "outputs": [],
   "source": [
    "import re\n",
    "\n",
    "# Função para separar rua e número\n",
    "def separar_rua_numero(endereco):\n",
    "    # Remover vírgulas e espaços extras\n",
    "    endereco = endereco.replace(\",\", \"\").strip()\n",
    "\n",
    "    # Caso o endereço comece com número (padrão internacional)\n",
    "    padrao_com_numero_no_inicio = r'^(\\d+\\s*[A-Za-z]?)(?:\\s+)(.*)'\n",
    "    match_numero_no_inicio = re.match(padrao_com_numero_no_inicio, endereco)\n",
    "\n",
    "    if match_numero_no_inicio:\n",
    "        numero = match_numero_no_inicio.group(1).strip()  # Número no início\n",
    "        rua = match_numero_no_inicio.group(2).strip()  # O resto é a rua\n",
    "        return rua, numero\n",
    "\n",
    "    padrao_com_numero_no_final = r'^(.*?)(?:\\s+(?:No|N|n|no|Num|Número|Numero|num|número|numero#)?\\s*(\\d+\\s*[A-Za-z]?))$'\n",
    "    match_numero_no_final = re.match(padrao_com_numero_no_final, endereco)\n",
    "\n",
    "    if match_numero_no_final:\n",
    "        rua = match_numero_no_final.group(1).strip()  # Captura a rua\n",
    "        numero = match_numero_no_final.group(2).strip()  # Captura o número (com possível letra)\n",
    "        return rua, numero\n",
    "\n",
    "    # Se não corresponder a nenhum padrão, retorna o endereço original como rua e vazio para o número\n",
    "    return endereco, \"\"\n",
    "\n",
    "# Função para exibir os endereços armazenados\n",
    "def exibir_enderecos(enderecos):\n",
    "    if not enderecos:\n",
    "        print(\"Nenhum endereço armazenado.\")\n",
    "    else:\n",
    "        print(\"\\n\" + \"=\" * 37)\n",
    "        print(\" \" * 7 + \" Casos complexos\")\n",
    "        print(\"=\" * 37)\n",
    "        for endereco in enderecos:\n",
    "            rua, numero = separar_rua_numero(endereco)  # Processa o endereço armazenado\n",
    "            print(f\" Endereço: {rua}\\n   Número: {numero}\\n\")  # Formato desejado"
   ]
  },
  {
   "cell_type": "code",
   "execution_count": 9,
   "metadata": {},
   "outputs": [
    {
     "name": "stdout",
     "output_type": "stream",
     "text": [
      "\n",
      "*************************************\n",
      "                Menu\n",
      "*************************************\n",
      " 1. Verificar endereços armazenados\n",
      " 2. Adicionar novo endereço\n",
      " 3. Sair\n",
      "\n",
      "=====================================\n",
      "        Casos complexos\n",
      "=====================================\n",
      " Endereço: Rio Branco\n",
      "   Número: 23\n",
      "\n",
      " Endereço: Quirino dos Santos\n",
      "   Número: 23 b\n",
      "\n",
      " Endereço: Rue de la République\n",
      "   Número: 4\n",
      "\n",
      " Endereço: Broadway Av\n",
      "   Número: 100\n",
      "\n",
      " Endereço: Calle Sagasta\n",
      "   Número: 26\n",
      "\n",
      " Endereço: Calle 44\n",
      "   Número: 1991\n",
      "\n",
      "\n",
      "*************************************\n",
      "                Menu\n",
      "*************************************\n",
      " 1. Verificar endereços armazenados\n",
      " 2. Adicionar novo endereço\n",
      " 3. Sair\n",
      "...\n"
     ]
    }
   ],
   "source": [
    "# Função para processar o menu\n",
    "def processar_menu():\n",
    "    enderecos = [\"Rio Branco Número 23\", \"Quirino dos Santos 23 b\", \"4, Rue de la République\", \"100 Broadway Av\", \"Calle Sagasta, 26\", \"Calle 44 No 1991\"]  # Lista para armazenar endereços\n",
    "\n",
    "    while True:\n",
    "        print(\"\\n\" + \"*\" * 37)\n",
    "        print(\" \" * 15 + \" Menu\")\n",
    "        print(\"*\" * 37)\n",
    "        print(\" \" * 1 + \"1. Verificar endereços armazenados\")\n",
    "        print(\" \" * 1 + \"2. Adicionar novo endereço\")\n",
    "        print(\" \" * 1 + \"3. Sair\")\n",
    "\n",
    "        escolha = input(\"\\nEscolha uma opção (1/2/3): \")\n",
    "\n",
    "        if escolha == '1':\n",
    "            exibir_enderecos(enderecos)\n",
    "        elif escolha == '2':\n",
    "            novo_endereco = input(\"\\nDigite o novo endereço: \")\n",
    "            enderecos.append(novo_endereco)  # Adiciona o novo endereço à lista\n",
    "            rua, numero = separar_rua_numero(novo_endereco)  # Processa o novo endereço\n",
    "            print(f\"O endereço '{novo_endereco}' foi adicionado com sucesso!\")\n",
    "        elif escolha == '3':\n",
    "            print(\"...\")\n",
    "            break\n",
    "        else:\n",
    "            print(\"Opção inválida, por favor, escolha novamente.\")\n",
    "\n",
    "# Executar o menu\n",
    "processar_menu()"
   ]
  },
  {
   "cell_type": "markdown",
   "metadata": {},
   "source": [
    "### Pode-se observar que o código REGEX consegue resolver os casos complexos, de maneira bem simples, através da variável padrao_com_numero_no_final"
   ]
  }
 ],
 "metadata": {
  "kernelspec": {
   "display_name": "Python 3",
   "language": "python",
   "name": "python3"
  },
  "language_info": {
   "codemirror_mode": {
    "name": "ipython",
    "version": 3
   },
   "file_extension": ".py",
   "mimetype": "text/x-python",
   "name": "python",
   "nbconvert_exporter": "python",
   "pygments_lexer": "ipython3",
   "version": "3.12.8"
  }
 },
 "nbformat": 4,
 "nbformat_minor": 2
}

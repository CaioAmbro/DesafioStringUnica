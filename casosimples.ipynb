{
  "cells": [
    {
      "cell_type": "markdown",
      "metadata": {
        "id": "sfcChZ36LHi8"
      },
      "source": [
        "# **Desafio**"
      ]
    },
    {
      "cell_type": "markdown",
      "metadata": {
        "id": "Gq2cXtivLbIG"
      },
      "source": [
        "## Código caso simples:  python básico ###\n",
        "\n",
        "\n"
      ]
    },
    {
      "cell_type": "code",
      "execution_count": 1,
      "metadata": {
        "id": "JT4bNNpvToGn"
      },
      "outputs": [],
      "source": [
        "def separar_logradouro_numero(endereco):\n",
        "    # Divide a string em partes separadas por espaço\n",
        "    partes = endereco.split()\n",
        "\n",
        "    # O número é o último elemento\n",
        "    numero = partes.pop()  # remove e retorna o último elemento\n",
        "\n",
        "    # O logradouro é o que restar na lista\n",
        "    logradouro = \" \".join(partes)\n",
        "\n",
        "    return logradouro, numero\n",
        "\n",
        "# Lista de endereços inicial\n",
        "enderecos = [\"Miritiba 339\", \"Rua Babaçu 500\", \"Avenida Cambuí 804B\"]\n",
        "\n",
        "def exibir_enderecos(enderecos):\n",
        "    print(\"\\n\" + \"=\" * 37)\n",
        "    print(\" \" * 7 + \" Casos simples\")\n",
        "    print(\"=\" * 37)\n",
        "    for endereco in enderecos:\n",
        "        logradouro, numero = separar_logradouro_numero(endereco)\n",
        "        print(f\"Endereço: {logradouro}\\n  Número: {numero}\\n\")"
      ]
    },
    {
      "cell_type": "code",
      "execution_count": 2,
      "metadata": {
        "id": "doxKYvgsnxmJ"
      },
      "outputs": [
        {
          "name": "stdout",
          "output_type": "stream",
          "text": [
            "\n",
            "*************************************\n",
            "                Menu\n",
            "*************************************\n",
            " 1. Verificar endereços armazenados\n",
            " 2. Adicionar novo endereço\n",
            " 3. Sair\n",
            "\n",
            "=====================================\n",
            "        Casos simples\n",
            "=====================================\n",
            "Endereço: Miritiba\n",
            "  Número: 339\n",
            "\n",
            "Endereço: Rua Babaçu\n",
            "  Número: 500\n",
            "\n",
            "Endereço: Avenida Cambuí\n",
            "  Número: 804B\n",
            "\n",
            "\n",
            "*************************************\n",
            "                Menu\n",
            "*************************************\n",
            " 1. Verificar endereços armazenados\n",
            " 2. Adicionar novo endereço\n",
            " 3. Sair\n",
            "\n"
          ]
        }
      ],
      "source": [
        "# @title Menu interativo:\n",
        "while True:\n",
        "    print(\"\\n\" + \"*\" * 37)\n",
        "    print(\" \" * 15 + \" Menu\")\n",
        "    print(\"*\" * 37)\n",
        "    print(\" \" * 1 + \"1. Verificar endereços armazenados\")\n",
        "    print(\" \" * 1 + \"2. Adicionar novo endereço\")\n",
        "    print(\" \" * 1 + \"3. Sair\")\n",
        "\n",
        "\n",
        "    escolha = input(\"\\nEscolha uma opção (1/2/3): \")\n",
        "\n",
        "    if escolha == '1':\n",
        "        exibir_enderecos(enderecos)\n",
        "    elif escolha == '2':\n",
        "        novo_endereco = input(\"Digite o novo endereço: \")\n",
        "        enderecos.append(novo_endereco)\n",
        "        print(f\"O endereço '{novo_endereco}' foi adicionado com sucesso!\")\n",
        "    elif escolha == '3':\n",
        "        print(\"\")\n",
        "        break\n",
        "    else:\n",
        "        print(\"Opção inválida, por favor, escolha novamente.\")"
      ]
    },
    {
      "cell_type": "code",
      "execution_count": 10,
      "metadata": {
        "id": "rCputg9wWBnv"
      },
      "outputs": [
        {
          "name": "stdout",
          "output_type": "stream",
          "text": [
            "\n",
            "=====================================\n",
            "           Casos complexos: \n",
            "=====================================\n",
            " Endereço: Rio Branco Número\n",
            "   Número: 23\n",
            "\n",
            " Endereço: Quirino dos Santos 23\n",
            "   Número: b\n",
            "\n",
            " Endereço: 4, Rue de la\n",
            "   Número: République\n",
            "\n",
            " Endereço: 100 Broadway\n",
            "   Número: Av\n",
            "\n",
            " Endereço: Calle Sagasta,\n",
            "   Número: 26\n",
            "\n",
            " Endereço: Calle 44 No\n",
            "   Número: 1991\n",
            "\n"
          ]
        }
      ],
      "source": [
        "#Comportamento para Casos Complexos\n",
        "def separar_logradouro_numero(endereco):\n",
        "    # Divide a string em partes separadas por espaço\n",
        "    partes = endereco.split()\n",
        "\n",
        "    # O número é o último elemento\n",
        "    numero = partes.pop()  # remove e retorna o último elemento\n",
        "\n",
        "    # O logradouro é o que restar na lista\n",
        "    logradouro = \" \".join(partes)\n",
        "\n",
        "    return logradouro, numero\n",
        "\n",
        "# Lista de endereços para testar\n",
        "enderecos = [\"Rio Branco Número 23\", \"Quirino dos Santos 23 b\", \"4, Rue de la République\", \"100 Broadway Av\", \"Calle Sagasta, 26\", \"Calle 44 No 1991\"]\n",
        "\n",
        "print(\"\\n\" + \"=\" * 37)\n",
        "print(\" \" * 10 + \" Casos complexos: \")\n",
        "print(\"=\" * 37)\n",
        "\n",
        "# Testando o código para múltiplos endereços\n",
        "for endereco in enderecos:\n",
        "    logradouro, numero = separar_logradouro_numero(endereco)\n",
        "    print(f\" Endereço: {logradouro}\\n   Número: {numero}\\n\")"
      ]
    },
    {
      "cell_type": "markdown",
      "metadata": {
        "id": "PYptkZXfLhfO"
      },
      "source": [
        "### Pode-se observar que o código em python básico não consegue resolver os casos complexos."
      ]
    }
  ],
  "metadata": {
    "colab": {
      "provenance": []
    },
    "kernelspec": {
      "display_name": "Python 3",
      "name": "python3"
    },
    "language_info": {
      "codemirror_mode": {
        "name": "ipython",
        "version": 3
      },
      "file_extension": ".py",
      "mimetype": "text/x-python",
      "name": "python",
      "nbconvert_exporter": "python",
      "pygments_lexer": "ipython3",
      "version": "3.12.8"
    }
  },
  "nbformat": 4,
  "nbformat_minor": 0
}
